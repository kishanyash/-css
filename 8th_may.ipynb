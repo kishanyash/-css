{
  "nbformat": 4,
  "nbformat_minor": 0,
  "metadata": {
    "colab": {
      "provenance": [],
      "authorship_tag": "ABX9TyO2vdTeXrZdyUv0DIl0CDAj",
      "include_colab_link": true
    },
    "kernelspec": {
      "name": "python3",
      "display_name": "Python 3"
    },
    "language_info": {
      "name": "python"
    }
  },
  "cells": [
    {
      "cell_type": "markdown",
      "metadata": {
        "id": "view-in-github",
        "colab_type": "text"
      },
      "source": [
        "<a href=\"https://colab.research.google.com/github/kishanyash/-css/blob/main/8th_may.ipynb\" target=\"_parent\"><img src=\"https://colab.research.google.com/assets/colab-badge.svg\" alt=\"Open In Colab\"/></a>"
      ]
    },
    {
      "cell_type": "code",
      "execution_count": 1,
      "metadata": {
        "id": "X7hYzovb4H3s"
      },
      "outputs": [],
      "source": [
        "# time complexity"
      ]
    },
    {
      "cell_type": "code",
      "source": [
        "#time complexity matlab number of operations in the input size"
      ],
      "metadata": {
        "id": "bUJsxi7s41em"
      },
      "execution_count": 2,
      "outputs": []
    },
    {
      "cell_type": "markdown",
      "source": [
        "start kar rha hain"
      ],
      "metadata": {
        "id": "0_YwO0QdAR2e"
      }
    },
    {
      "cell_type": "code",
      "source": [
        "def print(n):\n",
        "  i = 0\n",
        "  while (i < n):\n",
        "    while (j < n):\n",
        "      j =j + 1\n",
        "    i = i+1"
      ],
      "metadata": {
        "id": "nfZ45z4z5Ga5"
      },
      "execution_count": 3,
      "outputs": []
    },
    {
      "cell_type": "code",
      "source": [
        "#recursion"
      ],
      "metadata": {
        "id": "kJGEYMueCMnR"
      },
      "execution_count": 4,
      "outputs": []
    },
    {
      "cell_type": "code",
      "source": [
        "def func():\n",
        "  func()\n",
        "\n",
        "  #classic recursion function\n",
        "  #it is a virus\n",
        "  # it is soals all the memory"
      ],
      "metadata": {
        "id": "iVCUwEOYE0Z2"
      },
      "execution_count": 8,
      "outputs": []
    },
    {
      "cell_type": "code",
      "source": [
        "# three steps strategies in RecursionError\n",
        "# it has a base condition\n",
        "# Logic\n",
        "#recursive call"
      ],
      "metadata": {
        "id": "eC2C0TcWFkcV"
      },
      "execution_count": 9,
      "outputs": []
    },
    {
      "cell_type": "code",
      "source": [
        "def num(array,index):\n",
        "  #base conditions\n",
        "  if index == len(array):\n",
        "    return\n",
        "  print(array[index])\n",
        "  num(array,index+1)"
      ],
      "metadata": {
        "id": "XXrF8_uiGdwb"
      },
      "execution_count": 10,
      "outputs": []
    },
    {
      "cell_type": "code",
      "source": [
        "def printNum(arr, sI):\n",
        "  if sI == len(arr):\n",
        "    return\n",
        "  print(arr[sI])\n",
        "  printNum(arr, sI+1)\n",
        "  printNum([2,3,4],0)"
      ],
      "metadata": {
        "id": "9MwRKcg0Hchw"
      },
      "execution_count": 11,
      "outputs": []
    },
    {
      "cell_type": "code",
      "source": [],
      "metadata": {
        "id": "LEOzCyWHIVeW"
      },
      "execution_count": null,
      "outputs": []
    }
  ]
}